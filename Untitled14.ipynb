{
 "cells": [
  {
   "cell_type": "code",
   "execution_count": 1,
   "metadata": {},
   "outputs": [
    {
     "name": "stdout",
     "output_type": "stream",
     "text": [
      "Local current time :\n",
      "time.struct_time(tm_year=2021, tm_mon=3, tm_mday=15, tm_hour=21, tm_min=21, tm_sec=19, tm_wday=0, tm_yday=74, tm_isdst=0)\n",
      "Today's date: 2021-03-15\n"
     ]
    }
   ],
   "source": [
    "import pandas as pd\n",
    "import matplotlib.pyplot as plt\n",
    "rf=pd.read_csv('countries-aggregated.csv')\n",
    "import time;\n",
    "localtime = time.localtime(time.time())\n",
    "print (\"Local current time :\") \n",
    "print(localtime)\n",
    "from datetime import date\n",
    "\n",
    "today = date.today()\n",
    "print(\"Today's date:\", today)\n",
    "#in block below we have used an older data but if you want an analysis of the latest data and you have the latest updated file \n",
    "#then for that you can use the time library used above and can use that in the code below"
   ]
  },
  {
   "cell_type": "code",
   "execution_count": 2,
   "metadata": {},
   "outputs": [
    {
     "name": "stdout",
     "output_type": "stream",
     "text": [
      "how many countries you want to compare\n",
      "3\n",
      "you have choosen this\n",
      "3\n",
      "xIndia\n",
      "India\n",
      "you have choosen the country\n",
      "             Date      Country  Confirmed  Recovered  Deaths\n",
      "0      2020-01-22  Afghanistan          0          0       0\n",
      "1      2020-01-23  Afghanistan          0          0       0\n",
      "2      2020-01-24  Afghanistan          0          0       0\n",
      "3      2020-01-25  Afghanistan          0          0       0\n",
      "4      2020-01-26  Afghanistan          0          0       0\n",
      "...           ...          ...        ...        ...     ...\n",
      "79675  2021-03-07     Zimbabwe      36271      33834    1485\n",
      "79676  2021-03-08     Zimbabwe      36289      33872    1487\n",
      "79677  2021-03-09     Zimbabwe      36321      33919    1489\n",
      "79678  2021-03-10     Zimbabwe      36341      33953    1489\n",
      "79679  2021-03-11     Zimbabwe      36377      33972    1492\n",
      "\n",
      "[79680 rows x 5 columns]\n",
      "xFrance\n",
      "France\n",
      "you have choosen the country\n",
      "             Date      Country  Confirmed  Recovered  Deaths\n",
      "0      2020-01-22  Afghanistan          0          0       0\n",
      "1      2020-01-23  Afghanistan          0          0       0\n",
      "2      2020-01-24  Afghanistan          0          0       0\n",
      "3      2020-01-25  Afghanistan          0          0       0\n",
      "4      2020-01-26  Afghanistan          0          0       0\n",
      "...           ...          ...        ...        ...     ...\n",
      "79675  2021-03-07     Zimbabwe      36271      33834    1485\n",
      "79676  2021-03-08     Zimbabwe      36289      33872    1487\n",
      "79677  2021-03-09     Zimbabwe      36321      33919    1489\n",
      "79678  2021-03-10     Zimbabwe      36341      33953    1489\n",
      "79679  2021-03-11     Zimbabwe      36377      33972    1492\n",
      "\n",
      "[79680 rows x 5 columns]\n",
      "xIndonesia\n",
      "Indonesia\n",
      "you have choosen the country\n",
      "             Date      Country  Confirmed  Recovered  Deaths\n",
      "0      2020-01-22  Afghanistan          0          0       0\n",
      "1      2020-01-23  Afghanistan          0          0       0\n",
      "2      2020-01-24  Afghanistan          0          0       0\n",
      "3      2020-01-25  Afghanistan          0          0       0\n",
      "4      2020-01-26  Afghanistan          0          0       0\n",
      "...           ...          ...        ...        ...     ...\n",
      "79675  2021-03-07     Zimbabwe      36271      33834    1485\n",
      "79676  2021-03-08     Zimbabwe      36289      33872    1487\n",
      "79677  2021-03-09     Zimbabwe      36321      33919    1489\n",
      "79678  2021-03-10     Zimbabwe      36341      33953    1489\n",
      "79679  2021-03-11     Zimbabwe      36377      33972    1492\n",
      "\n",
      "[79680 rows x 5 columns]\n"
     ]
    },
    {
     "data": {
      "image/png": "[encoded data removed]",
      "text/plain": [
       "<Figure size 432x288 with 1 Axes>"
      ]
     },
     "metadata": {
      "needs_background": "light"
     },
     "output_type": "display_data"
    },
    {
     "name": "stdout",
     "output_type": "stream",
     "text": [
      "total confirmed patients in respective countries with their names\n",
      "['India', 'France', 'Indonesia'] [11308846, 4050558, 1403722]\n"
     ]
    },
    {
     "data": {
      "image/png": "[encoded data removed]",
      "text/plain": [
       "<Figure size 432x288 with 1 Axes>"
      ]
     },
     "metadata": {
      "needs_background": "light"
     },
     "output_type": "display_data"
    },
    {
     "name": "stdout",
     "output_type": "stream",
     "text": [
      "total deaths in respective countries with their names\n",
      "['India', 'France', 'Indonesia'] [10953303, 277225, 1224603]\n"
     ]
    },
    {
     "data": {
      "image/png": "[encoded data removed]",
      "text/plain": [
       "<Figure size 432x288 with 1 Axes>"
      ]
     },
     "metadata": {
      "needs_background": "light"
     },
     "output_type": "display_data"
    },
    {
     "name": "stdout",
     "output_type": "stream",
     "text": [
      "total deaths in respective countries with their names\n",
      "['India', 'France', 'Indonesia'] [158306, 89984, 38049]\n"
     ]
    },
    {
     "data": {
      "text/plain": [
       "<Figure size 800x1600 with 0 Axes>"
      ]
     },
     "execution_count": 2,
     "metadata": {},
     "output_type": "execute_result"
    },
    {
     "data": {
      "text/plain": [
       "<Figure size 800x1600 with 0 Axes>"
      ]
     },
     "metadata": {},
     "output_type": "display_data"
    }
   ],
   "source": [
    "\n",
    "print(\"how many countries you want to compare\")\n",
    "x1=int(input())\n",
    "print('you have choosen this')\n",
    "print(x1)\n",
    "label=[]\n",
    "data=[]\n",
    "label1=[]\n",
    "data1=[]\n",
    "label2=[]\n",
    "data2=[]\n",
    "for i in range(x1):\n",
    " i=input('x')\n",
    " print(i)\n",
    " print('you have choosen the country')\n",
    " print(rf)\n",
    " rf1=rf.loc[(rf.Country==i)]['Confirmed']\n",
    " rf_max=rf1.max()   \n",
    " label.append(i)\n",
    " data.append(rf_max)\n",
    " rf2=rf.loc[(rf.Country==i)]['Recovered']\n",
    " rf1_max=rf2.max()\n",
    " label1.append(i)\n",
    " data1.append(rf1_max)\n",
    " rf3=rf.loc[(rf.Country==i)]['Deaths']\n",
    " rf2_max=rf3.max()\n",
    " label2.append(i)\n",
    " data2.append(rf2_max)\n",
    "\n",
    "\n",
    "plt.xlabel('country')\n",
    "plt.ylabel('confirmed covid cases')\n",
    "plt.bar(label,data)\n",
    "plt.show()\n",
    "print(\"total confirmed patients in respective countries with their names\")\n",
    "print(label,data)\n",
    "plt.bar(label1,data1)\n",
    "plt.show()\n",
    "print(\"total deaths in respective countries with their names\")\n",
    "print(label1,data1)\n",
    "plt.bar(label2,data2)\n",
    "plt.show()\n",
    "print(\"total deaths in respective countries with their names\")\n",
    "print(label2,data2)\n",
    "plt.figure(figsize=(8,16), dpi=100)\n",
    "\n",
    "\n"
   ]
  },
  {
   "cell_type": "code",
   "execution_count": null,
   "metadata": {},
   "outputs": [],
   "source": []
  },
  {
   "cell_type": "code",
   "execution_count": null,
   "metadata": {},
   "outputs": [],
   "source": []
  },
  {
   "cell_type": "code",
   "execution_count": null,
   "metadata": {},
   "outputs": [],
   "source": [
    " "
   ]
  }
 ],
 "metadata": {
  "kernelspec": {
   "display_name": "Python 3",
   "language": "python",
   "name": "python3"
  },
  "language_info": {
   "codemirror_mode": {
    "name": "ipython",
    "version": 3
   },
   "file_extension": ".py",
   "mimetype": "text/x-python",
   "name": "python",
   "nbconvert_exporter": "python",
   "pygments_lexer": "ipython3",
   "version": "3.8.3"
  }
 },
 "nbformat": 4,
 "nbformat_minor": 4
}
